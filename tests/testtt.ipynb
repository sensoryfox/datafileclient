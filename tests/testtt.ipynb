{
 "cells": [
  {
   "cell_type": "code",
   "execution_count": 1,
   "id": "6fae3e99",
   "metadata": {},
   "outputs": [
    {
     "name": "stdout",
     "output_type": "stream",
     "text": [
      "endpoint='localhost:9000' accesskey='minioadmin' secretkey='minioadmin' bucket='default-bucket' secure=False\n"
     ]
    }
   ],
   "source": [
    "from sensory_data_client import create_data_client\n",
    "\n",
    "client = create_data_client()\n",
    "\n",
    "docs   = await client.list_doc()"
   ]
  },
  {
   "cell_type": "code",
   "execution_count": null,
   "id": "69f5134e",
   "metadata": {},
   "outputs": [],
   "source": [
    "\n",
    "lines  = await client.list_doclines()\n",
    "objects = await client.list_stor(prefix=\"pdf/\")"
   ]
  }
 ],
 "metadata": {
  "kernelspec": {
   "display_name": "Python 3",
   "language": "python",
   "name": "python3"
  },
  "language_info": {
   "codemirror_mode": {
    "name": "ipython",
    "version": 3
   },
   "file_extension": ".py",
   "mimetype": "text/x-python",
   "name": "python",
   "nbconvert_exporter": "python",
   "pygments_lexer": "ipython3",
   "version": "3.10.1"
  }
 },
 "nbformat": 4,
 "nbformat_minor": 5
}
