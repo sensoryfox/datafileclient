{
 "cells": [
  {
   "cell_type": "code",
   "execution_count": 104,
   "id": "6fae3e99",
   "metadata": {},
   "outputs": [
    {
     "name": "stdout",
     "output_type": "stream",
     "text": [
      "endpoint='10.10.0.70:9008' accesskey='minioadmin' secretkey='minioadmin' bucket='documents' secure=False\n"
     ]
    },
    {
     "data": {
      "text/plain": [
       "{'postgres': 'ok', 'minio': 'ok'}"
      ]
     },
     "execution_count": 104,
     "metadata": {},
     "output_type": "execute_result"
    }
   ],
   "source": [
    "import asyncio\n",
    "from pathlib import Path  # Используем pathlib для удобной и кросс-платформенной работы с путями\n",
    "import uuid\n",
    "from typing import Optional, Coroutine, Any\n",
    "\n",
    "from sensory_data_client import DataClient, get_settings, DataClientConfig, PostgresConfig, MinioConfig, create_data_client\n",
    "from sensory_data_client.models.document import DocumentCreate, DocumentMetadata\n",
    "from pydantic import BaseModel, Field\n",
    "cfg = DataClientConfig(postgres = PostgresConfig(user = \"postgres\",\n",
    "                                                           password = \"postgres\",\n",
    "                                                           host = \"10.10.0.70\",\n",
    "                                                           port=5422), \n",
    "                                            minio = MinioConfig(endpoint=\"10.10.0.70:9008\",  bucket = \"documents\"))\n",
    "client = create_data_client(cfg)\n",
    "await client.check_connections()"
   ]
  },
  {
   "cell_type": "code",
   "execution_count": 3,
   "id": "69f5134e",
   "metadata": {},
   "outputs": [],
   "source": [
    "\n",
    "lines  = await client.list_doclines()\n",
    "objects = await client.list_stor(prefix=\"pdf/\")"
   ]
  },
  {
   "cell_type": "code",
   "execution_count": 4,
   "id": "414e622b",
   "metadata": {},
   "outputs": [
    {
     "data": {
      "text/plain": [
       "[]"
      ]
     },
     "execution_count": 4,
     "metadata": {},
     "output_type": "execute_result"
    }
   ],
   "source": [
    "objects"
   ]
  },
  {
   "cell_type": "code",
   "execution_count": 173,
   "id": "f2792569",
   "metadata": {},
   "outputs": [
    {
     "name": "stdout",
     "output_type": "stream",
     "text": [
      "Подготовка к загрузке файла: X:\\Telegram Desktop\\Bain_Technology Report_2024.pdf\n"
     ]
    }
   ],
   "source": [
    "file_path_str = r\"X:\\Telegram Desktop\\Bain_Technology Report_2024.pdf\"\n",
    "file_path = Path(file_path_str)\n",
    "\n",
    "# Проверка, что файл существует, перед тем как его читать\n",
    "if not file_path.is_file():\n",
    "    print(f\"Ошибка: Файл не найден по пути {file_path}\")\n",
    "\n",
    "print(f\"Подготовка к загрузке файла: {file_path}\")\n",
    "\n",
    "# Шаг 2: Читаем файл в байты\n",
    "# .read_bytes() - простой способ прочитать весь файл в память\n",
    "try:\n",
    "    file_content: bytes = file_path.read_bytes()\n",
    "except Exception as e:\n",
    "    print(f\"Не удалось прочитать файл: {e}\")\n",
    "    \n",
    "\n",
    "# Шаг 3: Создаем объект метаданных DocumentCreate\n",
    "# Извлекаем информацию из пути и добавляем остальную\n",
    "document_meta = DocumentCreate(\n",
    "    user_document_id=str(uuid.uuid4()), # Генерируем уникальный ID для этого документа\n",
    "    name=file_path.name,                # 'X5Group x SensoryLAB 07.02.2024.pptx.pdf'\n",
    "    owner=\"user-alpha-007\",             # ID пользователя, который загружает файл\n",
    "    access_group=\"x5-auditors\",         # Опциональная группа доступа\n",
    "    metadata=DocumentMetadata()\n",
    ")\n"
   ]
  },
  {
   "cell_type": "code",
   "execution_count": 175,
   "id": "c0f44f90",
   "metadata": {},
   "outputs": [
    {
     "name": "stdout",
     "output_type": "stream",
     "text": [
      "\n",
      "✅ Успешно загружен документ!\n",
      "   ID в базе: 89abe34d-2838-4030-8373-6f6923a7c809\n",
      "   Путь в хранилище: user_document_id='ca8c0248-4557-4e50-b8e9-71674759e8e4' name='Bain_Technology Report_2024.pdf' owner='user-alpha-007' access_group='x5-auditors' metadata=DocumentMetadata(processing_status=None, image_object_paths=None, extra=None) id=UUID('89abe34d-2838-4030-8373-6f6923a7c809') created=datetime.datetime(2025, 8, 12, 14, 19, 38, 797974, tzinfo=datetime.timezone.utc) edited=datetime.datetime(2025, 8, 12, 14, 19, 38, 797974, tzinfo=datetime.timezone.utc) content_hash='9362e5fac0f6b1ad11ba321a30526dabdb3b01e02649d4c6285c364f34fe061c' object_path='pdf/89abe34d2838403083736f6923a7c809/raw/Bain_Technology Report_2024.pdf' extension='pdf'\n"
     ]
    }
   ],
   "source": [
    "\n",
    "# Шаг 4: Вызываем асинхронный метод с `await`\n",
    "try:\n",
    "    # Ваш метод `upload_file` скорее всего захочет получить чистое имя файла,\n",
    "    # а не весь путь. file_path.name идеально для этого подходит.\n",
    "    result_document = await client.upload_file(\n",
    "        file_name=file_path.name,\n",
    "        content=file_content,\n",
    "        meta=document_meta\n",
    "    )\n",
    "    \n",
    "    print(\"\\n✅ Успешно загружен документ!\")\n",
    "    print(f\"   ID в базе: {result_document.id}\")\n",
    "    print(f\"   Путь в хранилище: {result_document}\")\n",
    "\n",
    "except Exception as e:\n",
    "    print(f\"❌ Произошла ошибка во время загрузки: {e}\")\n"
   ]
  },
  {
   "cell_type": "code",
   "execution_count": null,
   "id": "1743bed7",
   "metadata": {},
   "outputs": [],
   "source": []
  }
 ],
 "metadata": {
  "kernelspec": {
   "display_name": "Python 3",
   "language": "python",
   "name": "python3"
  },
  "language_info": {
   "codemirror_mode": {
    "name": "ipython",
    "version": 3
   },
   "file_extension": ".py",
   "mimetype": "text/x-python",
   "name": "python",
   "nbconvert_exporter": "python",
   "pygments_lexer": "ipython3",
   "version": "3.10.1"
  }
 },
 "nbformat": 4,
 "nbformat_minor": 5
}
