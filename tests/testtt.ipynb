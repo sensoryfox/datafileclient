{
 "cells": [
  {
   "cell_type": "code",
   "execution_count": null,
   "id": "ea466877",
   "metadata": {},
   "outputs": [],
   "source": []
  },
  {
   "cell_type": "code",
   "execution_count": 7,
   "id": "6fae3e99",
   "metadata": {},
   "outputs": [],
   "source": [
    "from sensory_data_client import create_data_client\n",
    "\n",
    "client = create_data_client()\n",
    "\n",
    "docs   = await client.list_doc()"
   ]
  },
  {
   "cell_type": "code",
   "execution_count": 8,
   "id": "21828f0b",
   "metadata": {},
   "outputs": [
    {
     "data": {
      "text/plain": [
       "[]"
      ]
     },
     "execution_count": 8,
     "metadata": {},
     "output_type": "execute_result"
    }
   ],
   "source": [
    "docs"
   ]
  },
  {
   "cell_type": "code",
   "execution_count": 9,
   "id": "69f5134e",
   "metadata": {},
   "outputs": [],
   "source": [
    "\n",
    "lines  = await client.list_doclines()\n",
    "objects = await client.list_stor(prefix=\"pdf/\")"
   ]
  },
  {
   "cell_type": "code",
   "execution_count": null,
   "id": "e3631f51",
   "metadata": {},
   "outputs": [],
   "source": []
  },
  {
   "cell_type": "code",
   "execution_count": null,
   "id": "9c10bc2b",
   "metadata": {},
   "outputs": [],
   "source": []
  }
 ],
 "metadata": {
  "kernelspec": {
   "display_name": "Python 3",
   "language": "python",
   "name": "python3"
  },
  "language_info": {
   "codemirror_mode": {
    "name": "ipython",
    "version": 3
   },
   "file_extension": ".py",
   "mimetype": "text/x-python",
   "name": "python",
   "nbconvert_exporter": "python",
   "pygments_lexer": "ipython3",
   "version": "3.10.1"
  }
 },
 "nbformat": 4,
 "nbformat_minor": 5
}
