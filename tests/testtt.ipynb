{
 "cells": [
  {
   "cell_type": "code",
   "execution_count": 1,
   "id": "6fae3e99",
   "metadata": {},
   "outputs": [
    {
     "name": "stdout",
     "output_type": "stream",
     "text": [
      "[sensory-data-client] Database triggers registered for DocumentORM.\n",
      "endpoint='10.10.0.70:9008' accesskey='minioadmin' secretkey='minioadmin' bucket='documents' secure=False\n"
     ]
    },
    {
     "data": {
      "text/plain": [
       "{'postgres': 'ok', 'minio': 'ok'}"
      ]
     },
     "execution_count": 1,
     "metadata": {},
     "output_type": "execute_result"
    }
   ],
   "source": [
    "import asyncio\n",
    "from pathlib import Path  # Используем pathlib для удобной и кросс-платформенной работы с путями\n",
    "import uuid\n",
    "from typing import Optional, Coroutine, Any\n",
    "\n",
    "from sensory_data_client import DataClient, get_settings, DataClientConfig, PostgresConfig, MinioConfig, create_data_client\n",
    "from sensory_data_client.models.document import DocumentCreate, DocumentMetadata\n",
    "from sensory_data_client.models import GroupCreate\n",
    "\n",
    "from pydantic import BaseModel, Field\n",
    "cfg = DataClientConfig(postgres = PostgresConfig(user = \"postgres\",\n",
    "                                                           password = \"postgres\",\n",
    "                                                           host = \"10.10.0.70\",\n",
    "                                                           port=5422), \n",
    "                                            minio = MinioConfig(endpoint=\"10.10.0.70:9008\",  bucket = \"documents\"))\n",
    "client = create_data_client(cfg)\n",
    "await client.check_connections()"
   ]
  },
  {
   "cell_type": "code",
   "execution_count": 2,
   "id": "69f5134e",
   "metadata": {},
   "outputs": [
    {
     "name": "stderr",
     "output_type": "stream",
     "text": [
      "sys:1: SAWarning: relationship 'UserGroupMembershipORM.user' will copy column users.id to column user_group_membership.user_id, which conflicts with relationship(s): 'GroupORM.users' (copies users.id to user_group_membership.user_id), 'UserORM.groups' (copies users.id to user_group_membership.user_id). If this is not the intention, consider if these relationships should be linked with back_populates, or if viewonly=True should be applied to one or more if they are read-only. For the less common case that foreign key constraints are partially overlapping, the orm.foreign() annotation can be used to isolate the columns that should be written towards.   To silence this warning, add the parameter 'overlaps=\"groups,users\"' to the 'UserGroupMembershipORM.user' relationship. (Background on this warning at: https://sqlalche.me/e/20/qzyx) (This warning originated from the `configure_mappers()` process, which was invoked automatically in response to a user-initiated operation.)\n",
      "sys:1: SAWarning: relationship 'UserGroupMembershipORM.group' will copy column groups.id to column user_group_membership.group_id, which conflicts with relationship(s): 'GroupORM.users' (copies groups.id to user_group_membership.group_id), 'UserORM.groups' (copies groups.id to user_group_membership.group_id). If this is not the intention, consider if these relationships should be linked with back_populates, or if viewonly=True should be applied to one or more if they are read-only. For the less common case that foreign key constraints are partially overlapping, the orm.foreign() annotation can be used to isolate the columns that should be written towards.   To silence this warning, add the parameter 'overlaps=\"groups,users\"' to the 'UserGroupMembershipORM.group' relationship. (Background on this warning at: https://sqlalche.me/e/20/qzyx) (This warning originated from the `configure_mappers()` process, which was invoked automatically in response to a user-initiated operation.)\n"
     ]
    },
    {
     "ename": "ValidationError",
     "evalue": "2 validation errors for Line\nline_no\n  Field required [type=missing, input_value={'doc_id': UUID('19edc8d2...и ПАК «Neuroair»'}, input_type=dict]\n    For further information visit https://errors.pydantic.dev/2.10/v/missing\nblock_type\n  Field required [type=missing, input_value={'doc_id': UUID('19edc8d2...и ПАК «Neuroair»'}, input_type=dict]\n    For further information visit https://errors.pydantic.dev/2.10/v/missing",
     "output_type": "error",
     "traceback": [
      "\u001b[1;31m---------------------------------------------------------------------------\u001b[0m",
      "\u001b[1;31mValidationError\u001b[0m                           Traceback (most recent call last)",
      "\u001b[1;32m~\\AppData\\Local\\Temp/ipykernel_12604/352346204.py\u001b[0m in \u001b[0;36m<cell line: 1>\u001b[1;34m()\u001b[0m\n\u001b[1;32m----> 1\u001b[1;33m \u001b[0mlines\u001b[0m  \u001b[1;33m=\u001b[0m \u001b[1;32mawait\u001b[0m \u001b[0mclient\u001b[0m\u001b[1;33m.\u001b[0m\u001b[0mlist_doclines\u001b[0m\u001b[1;33m(\u001b[0m\u001b[1;33m)\u001b[0m\u001b[1;33m\u001b[0m\u001b[1;33m\u001b[0m\u001b[0m\n\u001b[0m\u001b[0;32m      2\u001b[0m \u001b[0mobjects\u001b[0m \u001b[1;33m=\u001b[0m \u001b[1;32mawait\u001b[0m \u001b[0mclient\u001b[0m\u001b[1;33m.\u001b[0m\u001b[0mlist_stor\u001b[0m\u001b[1;33m(\u001b[0m\u001b[0mprefix\u001b[0m\u001b[1;33m=\u001b[0m\u001b[1;34m\"pdf/\"\u001b[0m\u001b[1;33m)\u001b[0m\u001b[1;33m\u001b[0m\u001b[1;33m\u001b[0m\u001b[0m\n",
      "\u001b[1;32mX:\\CODER\\DataFileClient\\src\\sensory_data_client\\client.py\u001b[0m in \u001b[0;36mlist_doclines\u001b[1;34m(self, doc_id)\u001b[0m\n\u001b[0;32m    263\u001b[0m     async def list_doclines(self,\n\u001b[0;32m    264\u001b[0m                                   doc_id: UUID | None = None):\n\u001b[1;32m--> 265\u001b[1;33m         \u001b[1;32mreturn\u001b[0m \u001b[1;32mawait\u001b[0m \u001b[0mself\u001b[0m\u001b[1;33m.\u001b[0m\u001b[0mlinerepo\u001b[0m\u001b[1;33m.\u001b[0m\u001b[0mlist_all\u001b[0m\u001b[1;33m(\u001b[0m\u001b[0mdoc_id\u001b[0m\u001b[1;33m)\u001b[0m\u001b[1;33m\u001b[0m\u001b[1;33m\u001b[0m\u001b[0m\n\u001b[0m\u001b[0;32m    266\u001b[0m \u001b[1;33m\u001b[0m\u001b[0m\n\u001b[0;32m    267\u001b[0m     async def list_stor(self,\n",
      "\u001b[1;32mX:\\CODER\\DataFileClient\\src\\sensory_data_client\\repositories\\pg_repositoryLine.py\u001b[0m in \u001b[0;36mlist_all\u001b[1;34m(self, doc_id)\u001b[0m\n\u001b[0;32m    135\u001b[0m             \u001b[0morms\u001b[0m \u001b[1;33m=\u001b[0m \u001b[0mrows\u001b[0m\u001b[1;33m.\u001b[0m\u001b[0mscalars\u001b[0m\u001b[1;33m(\u001b[0m\u001b[1;33m)\u001b[0m\u001b[1;33m.\u001b[0m\u001b[0mall\u001b[0m\u001b[1;33m(\u001b[0m\u001b[1;33m)\u001b[0m\u001b[1;33m\u001b[0m\u001b[1;33m\u001b[0m\u001b[0m\n\u001b[0;32m    136\u001b[0m             \u001b[1;31m# ORM ➜ Pydantic (to_pydantic не был, конвертируем вручную)\u001b[0m\u001b[1;33m\u001b[0m\u001b[1;33m\u001b[0m\u001b[0m\n\u001b[1;32m--> 137\u001b[1;33m             return [\n\u001b[0m\u001b[0;32m    138\u001b[0m                 Line.model_validate(\n\u001b[0;32m    139\u001b[0m                     {\n",
      "\u001b[1;32mX:\\CODER\\DataFileClient\\src\\sensory_data_client\\repositories\\pg_repositoryLine.py\u001b[0m in \u001b[0;36m<listcomp>\u001b[1;34m(.0)\u001b[0m\n\u001b[0;32m    136\u001b[0m             \u001b[1;31m# ORM ➜ Pydantic (to_pydantic не был, конвертируем вручную)\u001b[0m\u001b[1;33m\u001b[0m\u001b[1;33m\u001b[0m\u001b[0m\n\u001b[0;32m    137\u001b[0m             return [\n\u001b[1;32m--> 138\u001b[1;33m                 Line.model_validate(\n\u001b[0m\u001b[0;32m    139\u001b[0m                     {\n\u001b[0;32m    140\u001b[0m                         \u001b[1;34m\"doc_id\"\u001b[0m\u001b[1;33m:\u001b[0m       \u001b[0mo\u001b[0m\u001b[1;33m.\u001b[0m\u001b[0mdoc_id\u001b[0m\u001b[1;33m,\u001b[0m\u001b[1;33m\u001b[0m\u001b[1;33m\u001b[0m\u001b[0m\n",
      "\u001b[1;32mc:\\Users\\1\\AppData\\Local\\Programs\\Python\\Python310\\lib\\site-packages\\pydantic\\main.py\u001b[0m in \u001b[0;36mmodel_validate\u001b[1;34m(cls, obj, strict, from_attributes, context)\u001b[0m\n\u001b[0;32m    625\u001b[0m         \u001b[1;31m# `__tracebackhide__` tells pytest and some other tools to omit this function from tracebacks\u001b[0m\u001b[1;33m\u001b[0m\u001b[1;33m\u001b[0m\u001b[0m\n\u001b[0;32m    626\u001b[0m         \u001b[0m__tracebackhide__\u001b[0m \u001b[1;33m=\u001b[0m \u001b[1;32mTrue\u001b[0m\u001b[1;33m\u001b[0m\u001b[1;33m\u001b[0m\u001b[0m\n\u001b[1;32m--> 627\u001b[1;33m         return cls.__pydantic_validator__.validate_python(\n\u001b[0m\u001b[0;32m    628\u001b[0m             \u001b[0mobj\u001b[0m\u001b[1;33m,\u001b[0m \u001b[0mstrict\u001b[0m\u001b[1;33m=\u001b[0m\u001b[0mstrict\u001b[0m\u001b[1;33m,\u001b[0m \u001b[0mfrom_attributes\u001b[0m\u001b[1;33m=\u001b[0m\u001b[0mfrom_attributes\u001b[0m\u001b[1;33m,\u001b[0m \u001b[0mcontext\u001b[0m\u001b[1;33m=\u001b[0m\u001b[0mcontext\u001b[0m\u001b[1;33m\u001b[0m\u001b[1;33m\u001b[0m\u001b[0m\n\u001b[0;32m    629\u001b[0m         )\n",
      "\u001b[1;31mValidationError\u001b[0m: 2 validation errors for Line\nline_no\n  Field required [type=missing, input_value={'doc_id': UUID('19edc8d2...и ПАК «Neuroair»'}, input_type=dict]\n    For further information visit https://errors.pydantic.dev/2.10/v/missing\nblock_type\n  Field required [type=missing, input_value={'doc_id': UUID('19edc8d2...и ПАК «Neuroair»'}, input_type=dict]\n    For further information visit https://errors.pydantic.dev/2.10/v/missing"
     ]
    }
   ],
   "source": [
    "\n",
    "lines  = await client.list_doclines()\n",
    "objects = await client.list_stor(prefix=\"pdf/\")"
   ]
  },
  {
   "cell_type": "code",
   "execution_count": 3,
   "id": "ee278007",
   "metadata": {},
   "outputs": [
    {
     "data": {
      "text/plain": [
       "<sensory_data_client.db.users.users.UserORM at 0x28a102c6d70>"
      ]
     },
     "execution_count": 3,
     "metadata": {},
     "output_type": "execute_result"
    }
   ],
   "source": [
    "email = await client.get_user_by_email(\"fox@sensorylab.ru\")\n",
    "email\n"
   ]
  },
  {
   "cell_type": "code",
   "execution_count": 2,
   "id": "414e622b",
   "metadata": {},
   "outputs": [
    {
     "name": "stderr",
     "output_type": "stream",
     "text": [
      "(trapped) error reading bcrypt version\n",
      "Traceback (most recent call last):\n",
      "  File \"c:\\Users\\1\\AppData\\Local\\Programs\\Python\\Python310\\lib\\site-packages\\passlib\\handlers\\bcrypt.py\", line 620, in _load_backend_mixin\n",
      "    version = _bcrypt.__about__.__version__\n",
      "AttributeError: module 'bcrypt' has no attribute '__about__'\n"
     ]
    }
   ],
   "source": [
    "email = await client.create_user(email=\"fox@sensorylab.ru\", plain_password=\"1qa2ws#ED\")\n"
   ]
  },
  {
   "cell_type": "code",
   "execution_count": 5,
   "id": "2b998570",
   "metadata": {},
   "outputs": [
    {
     "ename": "ValidationError",
     "evalue": "1 validation error for GroupInDB\nedited_at\n  Field required [type=missing, input_value=<sensory_data_client.db.u...t at 0x0000028A10334B50>, input_type=GroupORM]\n    For further information visit https://errors.pydantic.dev/2.10/v/missing",
     "output_type": "error",
     "traceback": [
      "\u001b[1;31m---------------------------------------------------------------------------\u001b[0m",
      "\u001b[1;31mValidationError\u001b[0m                           Traceback (most recent call last)",
      "\u001b[1;32m~\\AppData\\Local\\Temp/ipykernel_23224/1231635137.py\u001b[0m in \u001b[0;36m<cell line: 1>\u001b[1;34m()\u001b[0m\n\u001b[1;32m----> 1\u001b[1;33m \u001b[0mgroup\u001b[0m \u001b[1;33m=\u001b[0m \u001b[1;32mawait\u001b[0m \u001b[0mclient\u001b[0m\u001b[1;33m.\u001b[0m\u001b[0mcreate_group\u001b[0m\u001b[1;33m(\u001b[0m\u001b[0mGroupCreate\u001b[0m\u001b[1;33m(\u001b[0m\u001b[0mname\u001b[0m\u001b[1;33m=\u001b[0m\u001b[1;34m\"Первые пташки\"\u001b[0m\u001b[1;33m,\u001b[0m \u001b[0mdescription\u001b[0m\u001b[1;33m=\u001b[0m\u001b[1;34m\"Ну пацаны нормальные\"\u001b[0m\u001b[1;33m)\u001b[0m\u001b[1;33m)\u001b[0m\u001b[1;33m\u001b[0m\u001b[1;33m\u001b[0m\u001b[0m\n\u001b[0m\u001b[0;32m      2\u001b[0m \u001b[0mgroup\u001b[0m\u001b[1;33m\u001b[0m\u001b[1;33m\u001b[0m\u001b[0m\n",
      "\u001b[1;32mX:\\CODER\\DataFileClient\\src\\sensory_data_client\\client.py\u001b[0m in \u001b[0;36mcreate_group\u001b[1;34m(self, group_data)\u001b[0m\n\u001b[0;32m    366\u001b[0m             \u001b[1;32mraise\u001b[0m \u001b[0mNotImplementedError\u001b[0m\u001b[1;33m(\u001b[0m\u001b[1;34m\"GroupRepository is not configured.\"\u001b[0m\u001b[1;33m)\u001b[0m\u001b[1;33m\u001b[0m\u001b[1;33m\u001b[0m\u001b[0m\n\u001b[0;32m    367\u001b[0m         \u001b[0morm\u001b[0m \u001b[1;33m=\u001b[0m \u001b[1;32mawait\u001b[0m \u001b[0mself\u001b[0m\u001b[1;33m.\u001b[0m\u001b[0mgroup_repo\u001b[0m\u001b[1;33m.\u001b[0m\u001b[0mcreate_group\u001b[0m\u001b[1;33m(\u001b[0m\u001b[0mgroup_data\u001b[0m\u001b[1;33m)\u001b[0m\u001b[1;33m\u001b[0m\u001b[1;33m\u001b[0m\u001b[0m\n\u001b[1;32m--> 368\u001b[1;33m         \u001b[1;32mreturn\u001b[0m \u001b[0mGroupInDB\u001b[0m\u001b[1;33m.\u001b[0m\u001b[0mmodel_validate\u001b[0m\u001b[1;33m(\u001b[0m\u001b[0morm\u001b[0m\u001b[1;33m)\u001b[0m\u001b[1;33m\u001b[0m\u001b[1;33m\u001b[0m\u001b[0m\n\u001b[0m\u001b[0;32m    369\u001b[0m \u001b[1;33m\u001b[0m\u001b[0m\n\u001b[0;32m    370\u001b[0m     \u001b[1;32masync\u001b[0m \u001b[1;32mdef\u001b[0m \u001b[0mget_group\u001b[0m\u001b[1;33m(\u001b[0m\u001b[0mself\u001b[0m\u001b[1;33m,\u001b[0m \u001b[0mgroup_id\u001b[0m\u001b[1;33m:\u001b[0m \u001b[0mUUID\u001b[0m\u001b[1;33m,\u001b[0m \u001b[0mwith_members\u001b[0m\u001b[1;33m:\u001b[0m \u001b[0mbool\u001b[0m \u001b[1;33m=\u001b[0m \u001b[1;32mFalse\u001b[0m\u001b[1;33m)\u001b[0m \u001b[1;33m->\u001b[0m \u001b[0mGroupInDB\u001b[0m \u001b[1;33m|\u001b[0m \u001b[0mGroupWithMembers\u001b[0m \u001b[1;33m|\u001b[0m \u001b[1;32mNone\u001b[0m\u001b[1;33m:\u001b[0m\u001b[1;33m\u001b[0m\u001b[1;33m\u001b[0m\u001b[0m\n",
      "\u001b[1;32mc:\\Users\\1\\AppData\\Local\\Programs\\Python\\Python310\\lib\\site-packages\\pydantic\\main.py\u001b[0m in \u001b[0;36mmodel_validate\u001b[1;34m(cls, obj, strict, from_attributes, context)\u001b[0m\n\u001b[0;32m    625\u001b[0m         \u001b[1;31m# `__tracebackhide__` tells pytest and some other tools to omit this function from tracebacks\u001b[0m\u001b[1;33m\u001b[0m\u001b[1;33m\u001b[0m\u001b[0m\n\u001b[0;32m    626\u001b[0m         \u001b[0m__tracebackhide__\u001b[0m \u001b[1;33m=\u001b[0m \u001b[1;32mTrue\u001b[0m\u001b[1;33m\u001b[0m\u001b[1;33m\u001b[0m\u001b[0m\n\u001b[1;32m--> 627\u001b[1;33m         return cls.__pydantic_validator__.validate_python(\n\u001b[0m\u001b[0;32m    628\u001b[0m             \u001b[0mobj\u001b[0m\u001b[1;33m,\u001b[0m \u001b[0mstrict\u001b[0m\u001b[1;33m=\u001b[0m\u001b[0mstrict\u001b[0m\u001b[1;33m,\u001b[0m \u001b[0mfrom_attributes\u001b[0m\u001b[1;33m=\u001b[0m\u001b[0mfrom_attributes\u001b[0m\u001b[1;33m,\u001b[0m \u001b[0mcontext\u001b[0m\u001b[1;33m=\u001b[0m\u001b[0mcontext\u001b[0m\u001b[1;33m\u001b[0m\u001b[1;33m\u001b[0m\u001b[0m\n\u001b[0;32m    629\u001b[0m         )\n",
      "\u001b[1;31mValidationError\u001b[0m: 1 validation error for GroupInDB\nedited_at\n  Field required [type=missing, input_value=<sensory_data_client.db.u...t at 0x0000028A10334B50>, input_type=GroupORM]\n    For further information visit https://errors.pydantic.dev/2.10/v/missing"
     ]
    }
   ],
   "source": [
    "\n",
    "group = await client.create_group(GroupCreate(name=\"Первые пташки\", description=\"Ну пацаны нормальные\"))\n",
    "group\n"
   ]
  },
  {
   "cell_type": "code",
   "execution_count": 9,
   "id": "f2792569",
   "metadata": {},
   "outputs": [
    {
     "name": "stdout",
     "output_type": "stream",
     "text": [
      "Подготовка к загрузке файла: X:\\Downloads\\Сенсори_ГПБ_КЕЙСЫ_11.04.2025 final.pdf\n"
     ]
    }
   ],
   "source": [
    "\n",
    "\n",
    "file_path_str = r\"X:\\Downloads\\Сенсори_ГПБ_КЕЙСЫ_11.04.2025 final.pdf\"\n",
    "file_path = Path(file_path_str)\n",
    "\n",
    "# Проверка, что файл существует, перед тем как его читать\n",
    "if not file_path.is_file():\n",
    "    print(f\"Ошибка: Файл не найден по пути {file_path}\")\n",
    "\n",
    "print(f\"Подготовка к загрузке файла: {file_path}\")\n",
    "\n",
    "# Шаг 2: Читаем файл в байты\n",
    "# .read_bytes() - простой способ прочитать весь файл в память\n",
    "try:\n",
    "    file_content: bytes = file_path.read_bytes()\n",
    "except Exception as e:\n",
    "    print(f\"Не удалось прочитать файл: {e}\")\n",
    "    \n",
    "\n",
    "# Шаг 3: Создаем объект метаданных DocumentCreate\n",
    "# Извлекаем информацию из пути и добавляем остальную\n",
    "document_meta = DocumentCreate(\n",
    "    user_document_id=str(uuid.uuid4()), # Генерируем уникальный ID для этого документа\n",
    "    name=file_path.name,                # 'X5Group x SensoryLAB 07.02.2024.pptx.pdf'\n",
    "    owner_id=email.id,             # ID пользователя, который загружает файл\n",
    "    access_group_id=uuid.UUID(\"7ebc8f2f498b418a92b2e6dbf5c5cba7\"),         # Опциональная группа доступа\n",
    "    metadata=DocumentMetadata()\n",
    ")\n"
   ]
  },
  {
   "cell_type": "code",
   "execution_count": 7,
   "id": "d6784b68",
   "metadata": {},
   "outputs": [
    {
     "data": {
      "text/plain": [
       "UUID('8f088d88-fd3b-4c86-af38-2196b6cab3cc')"
      ]
     },
     "execution_count": 7,
     "metadata": {},
     "output_type": "execute_result"
    }
   ],
   "source": [
    "uuid.UUID(\"8f088d88fd3b4c86af382196b6cab3cc\")"
   ]
  },
  {
   "cell_type": "code",
   "execution_count": null,
   "id": "eb5981c0",
   "metadata": {},
   "outputs": [],
   "source": []
  },
  {
   "cell_type": "code",
   "execution_count": 10,
   "id": "c0f44f90",
   "metadata": {},
   "outputs": [
    {
     "name": "stdout",
     "output_type": "stream",
     "text": [
      "\n",
      "✅ Успешно загружен документ!\n",
      "   ID в базе: 0608b93e-9324-4154-9e8f-cd11316c25fb\n",
      "   Путь в хранилище: user_document_id='d338d03f-e892-4400-81e0-f27e1ba63aa5' name='Сенсори_ГПБ_КЕЙСЫ_11.04.2025 final.pdf' owner_id=UUID('2988de0b-105c-4afc-b7b9-88dec435a9ba') access_group_id=UUID('7ebc8f2f-498b-418a-92b2-e6dbf5c5cba7') metadata=DocumentMetadata(processing_status=None, image_object_paths=None, extra=None) id=UUID('0608b93e-9324-4154-9e8f-cd11316c25fb') created=datetime.datetime(2025, 8, 16, 19, 27, 47, 44552, tzinfo=datetime.timezone.utc) edited=datetime.datetime(2025, 8, 16, 19, 27, 47, 44552, tzinfo=datetime.timezone.utc) is_sync_enabled=True extension='pdf' content_hash='58309a70ab61b42e8935bae1bbe21e64003c3f44ac6ec759fca052f23ce3c6ac' object_path='pdf/0608b93e932441549e8fcd11316c25fb/raw/Сенсори_ГПБ_КЕЙСЫ_11.04.2025 final.pdf'\n"
     ]
    }
   ],
   "source": [
    "\n",
    "# Шаг 4: Вызываем асинхронный метод с `await`\n",
    "try:\n",
    "    # Ваш метод `upload_file` скорее всего захочет получить чистое имя файла,\n",
    "    # а не весь путь. file_path.name идеально для этого подходит.\n",
    "    result_document = await client.upload_file(\n",
    "        file_name=file_path.name,\n",
    "        content=file_content,\n",
    "        meta=document_meta\n",
    "    )\n",
    "    \n",
    "    print(\"\\n✅ Успешно загружен документ!\")\n",
    "    print(f\"   ID в базе: {result_document.id}\")\n",
    "    print(f\"   Путь в хранилище: {result_document}\")\n",
    "\n",
    "except Exception as e:\n",
    "    print(f\"❌ Произошла ошибка во время загрузки: {e}\")\n"
   ]
  },
  {
   "cell_type": "code",
   "execution_count": 53,
   "id": "1743bed7",
   "metadata": {},
   "outputs": [],
   "source": [
    "import asyncio\n",
    "import typer\n",
    "import logging\n",
    "import sys\n",
    "if sys.platform == \"win32\":\n",
    "    # Принудительно устанавливаем политику, которая использует SelectorEventLoop.\n",
    "    # Это решает проблему с ProactorEventLoop по умолчанию в Windows.\n",
    "    asyncio.set_event_loop_policy(asyncio.WindowsSelectorEventLoopPolicy())\n",
    "    \n",
    "from sensory_data_client import DataClient, get_settings, DataClientConfig, PostgresConfig, MinioConfig, create_data_client\n",
    "from sensory_data_client.models.document import DocumentCreate, DocumentMetadata\n",
    "\n",
    "from sensory_data_client.config import get_settings\n",
    "from sensory_data_client import create_data_client\n",
    "from sensory_data_client.exceptions import DataClientError\n",
    "from sensory_data_client.utils.cli_utils import get_rich_console\n",
    "settings = get_settings()\n",
    "# ИМПОРТИРУЕМ Base из ORM и create_async_engine\n",
    "from sensory_data_client.db.base import Base\n",
    "from sqlalchemy.ext.asyncio import create_async_engine\n",
    "\n",
    "\n",
    "app = typer.Typer(help=\"CLI for sensory-data-client management.\")\n",
    "logger = logging.getLogger(__name__)\n",
    "console = get_rich_console()\n",
    "cfg = DataClientConfig(postgres = PostgresConfig(user = \"postgres\",\n",
    "                                                           password = \"postgres\",\n",
    "                                                           host = \"10.10.0.70\",\n",
    "                                                           port=5422), \n",
    "                                            minio = MinioConfig(endpoint=\"10.10.0.70:9008\",  bucket = \"documents\"))\n",
    "\n",
    "engine = create_async_engine(cfg.postgres.get_pg_dsn())\n",
    "async with engine.begin() as conn:\n",
    "    await conn.run_sync(Base.metadata.create_all)\n",
    "await engine.dispose()\n"
   ]
  },
  {
   "cell_type": "code",
   "execution_count": 55,
   "id": "eaa33009",
   "metadata": {},
   "outputs": [
    {
     "name": "stdout",
     "output_type": "stream",
     "text": [
      "❌ Произошла ошибка во время загрузки: Failed to save document metadata: (sqlalchemy.dialects.postgresql.asyncpg.IntegrityError) <class 'asyncpg.exceptions.UniqueViolationError'>: duplicate key value violates unique constraint \"uq_documents_owner_userdoc\"\n",
      "DETAIL:  Key (owner_id, user_document_id)=(0c8608a8-6488-442e-be2c-1a431a0a3c04, 8da97dc0-0dc1-4155-afca-a613483fa676) already exists.\n",
      "[SQL: INSERT INTO documents (id, user_document_id, stored_file_id, name, owner_id, access_group_id, metadata) VALUES ($1::UUID, $2::VARCHAR, $3::INTEGER, $4::VARCHAR, $5::UUID, $6::UUID, $7::JSONB) RETURNING documents.created, documents.edited]\n",
      "[parameters: (UUID('ff949cd2-9d15-416b-980f-d68c39aa722e'), '8da97dc0-0dc1-4155-afca-a613483fa676', 1, 'ai-hr-2024.pdf', UUID('0c8608a8-6488-442e-be2c-1a431a0a3c04'), UUID('8f088d88-fd3b-4c86-af38-2196b6cab3cc'), '{\"processing_status\": null, \"image_object_paths\": null, \"extra\": null}')]\n",
      "(Background on this error at: https://sqlalche.me/e/20/gkpj)\n"
     ]
    }
   ],
   "source": [
    "\n",
    "# Шаг 4: Вызываем асинхронный метод с `await`\n",
    "try:\n",
    "    # Ваш метод `upload_file` скорее всего захочет получить чистое имя файла,\n",
    "    # а не весь путь. file_path.name идеально для этого подходит.\n",
    "    result_document = await client.upload_file(\n",
    "        file_name=file_path.name,\n",
    "        content=file_content,\n",
    "        meta=document_meta\n",
    "    )\n",
    "    \n",
    "    print(\"\\n✅ Успешно загружен документ!\")\n",
    "    print(f\"   ID в базе: {result_document.id}\")\n",
    "    print(f\"   Путь в хранилище: {result_document}\")\n",
    "\n",
    "except Exception as e:\n",
    "    print(f\"❌ Произошла ошибка во время загрузки: {e}\")\n"
   ]
  },
  {
   "cell_type": "code",
   "execution_count": 52,
   "id": "2412e237",
   "metadata": {},
   "outputs": [
    {
     "ename": "ValidationError",
     "evalue": "2 validation errors for DocumentInDB\nowner_id\n  Input should be a valid string [type=string_type, input_value=UUID('8f16fc0c-e4d0-42ef-89a2-3aa787801f56'), input_type=UUID]\n    For further information visit https://errors.pydantic.dev/2.10/v/string_type\naccess_group_id\n  Input should be a valid string [type=string_type, input_value=UUID('8f088d88-fd3b-4c86-af38-2196b6cab3cc'), input_type=UUID]\n    For further information visit https://errors.pydantic.dev/2.10/v/string_type",
     "output_type": "error",
     "traceback": [
      "\u001b[1;31m---------------------------------------------------------------------------\u001b[0m",
      "\u001b[1;31mValidationError\u001b[0m                           Traceback (most recent call last)",
      "\u001b[1;32m~\\AppData\\Local\\Temp/ipykernel_15956/4178863358.py\u001b[0m in \u001b[0;36m<cell line: 1>\u001b[1;34m()\u001b[0m\n\u001b[1;32m----> 1\u001b[1;33m \u001b[0mdoc_meta\u001b[0m \u001b[1;33m=\u001b[0m \u001b[1;32mawait\u001b[0m \u001b[0mclient\u001b[0m\u001b[1;33m.\u001b[0m\u001b[0mmetarepo\u001b[0m\u001b[1;33m.\u001b[0m\u001b[0mget\u001b[0m\u001b[1;33m(\u001b[0m\u001b[1;34m\"8a95427a-18d7-4d50-8ec6-1b631ae70de6\"\u001b[0m\u001b[1;33m)\u001b[0m\u001b[1;33m\u001b[0m\u001b[1;33m\u001b[0m\u001b[0m\n\u001b[0m",
      "\u001b[1;32mX:\\CODER\\DataFileClient\\src\\sensory_data_client\\repositories\\pg_repositoryMeta.py\u001b[0m in \u001b[0;36mget\u001b[1;34m(self, doc_id)\u001b[0m\n\u001b[0;32m     45\u001b[0m             \u001b[0mres\u001b[0m \u001b[1;33m=\u001b[0m \u001b[1;32mawait\u001b[0m \u001b[0msession\u001b[0m\u001b[1;33m.\u001b[0m\u001b[0mexecute\u001b[0m\u001b[1;33m(\u001b[0m\u001b[0mselect\u001b[0m\u001b[1;33m(\u001b[0m\u001b[0mDocumentORM\u001b[0m\u001b[1;33m)\u001b[0m\u001b[1;33m.\u001b[0m\u001b[0mwhere\u001b[0m\u001b[1;33m(\u001b[0m\u001b[0mDocumentORM\u001b[0m\u001b[1;33m.\u001b[0m\u001b[0mid\u001b[0m \u001b[1;33m==\u001b[0m \u001b[0mdoc_id\u001b[0m\u001b[1;33m)\u001b[0m\u001b[1;33m)\u001b[0m\u001b[1;33m\u001b[0m\u001b[1;33m\u001b[0m\u001b[0m\n\u001b[0;32m     46\u001b[0m             \u001b[0morm\u001b[0m \u001b[1;33m=\u001b[0m \u001b[0mres\u001b[0m\u001b[1;33m.\u001b[0m\u001b[0mscalar_one_or_none\u001b[0m\u001b[1;33m(\u001b[0m\u001b[1;33m)\u001b[0m\u001b[1;33m\u001b[0m\u001b[1;33m\u001b[0m\u001b[0m\n\u001b[1;32m---> 47\u001b[1;33m             \u001b[1;32mreturn\u001b[0m \u001b[0morm\u001b[0m\u001b[1;33m.\u001b[0m\u001b[0mto_pydantic\u001b[0m\u001b[1;33m(\u001b[0m\u001b[1;33m)\u001b[0m \u001b[1;32mif\u001b[0m \u001b[0morm\u001b[0m \u001b[1;32melse\u001b[0m \u001b[1;32mNone\u001b[0m\u001b[1;33m\u001b[0m\u001b[1;33m\u001b[0m\u001b[0m\n\u001b[0m\u001b[0;32m     48\u001b[0m \u001b[1;33m\u001b[0m\u001b[0m\n\u001b[0;32m     49\u001b[0m     \u001b[1;32masync\u001b[0m \u001b[1;32mdef\u001b[0m \u001b[0mupdate\u001b[0m\u001b[1;33m(\u001b[0m\u001b[0mself\u001b[0m\u001b[1;33m,\u001b[0m \u001b[0mdoc_id\u001b[0m\u001b[1;33m:\u001b[0m \u001b[0mUUID\u001b[0m\u001b[1;33m,\u001b[0m \u001b[0mpatch\u001b[0m\u001b[1;33m:\u001b[0m \u001b[0mdict\u001b[0m\u001b[1;33m)\u001b[0m \u001b[1;33m->\u001b[0m \u001b[0mOptional\u001b[0m\u001b[1;33m[\u001b[0m\u001b[0mDocumentInDB\u001b[0m\u001b[1;33m]\u001b[0m\u001b[1;33m:\u001b[0m\u001b[1;33m\u001b[0m\u001b[1;33m\u001b[0m\u001b[0m\n",
      "\u001b[1;32mX:\\CODER\\DataFileClient\\src\\sensory_data_client\\db\\document_orm.py\u001b[0m in \u001b[0;36mto_pydantic\u001b[1;34m(self)\u001b[0m\n\u001b[0;32m     61\u001b[0m             \u001b[1;32mraise\u001b[0m \u001b[0mValueError\u001b[0m\u001b[1;33m(\u001b[0m\u001b[1;34m\"Cannot convert to Pydantic: stored_file relationship not loaded.\"\u001b[0m\u001b[1;33m)\u001b[0m\u001b[1;33m\u001b[0m\u001b[1;33m\u001b[0m\u001b[0m\n\u001b[0;32m     62\u001b[0m \u001b[1;33m\u001b[0m\u001b[0m\n\u001b[1;32m---> 63\u001b[1;33m         return DocumentInDB(\n\u001b[0m\u001b[0;32m     64\u001b[0m             \u001b[0mid\u001b[0m\u001b[1;33m=\u001b[0m\u001b[0mself\u001b[0m\u001b[1;33m.\u001b[0m\u001b[0mid\u001b[0m\u001b[1;33m,\u001b[0m\u001b[1;33m\u001b[0m\u001b[1;33m\u001b[0m\u001b[0m\n\u001b[0;32m     65\u001b[0m             \u001b[0muser_document_id\u001b[0m\u001b[1;33m=\u001b[0m\u001b[0mself\u001b[0m\u001b[1;33m.\u001b[0m\u001b[0muser_document_id\u001b[0m\u001b[1;33m,\u001b[0m\u001b[1;33m\u001b[0m\u001b[1;33m\u001b[0m\u001b[0m\n",
      "\u001b[1;32mc:\\Users\\1\\AppData\\Local\\Programs\\Python\\Python310\\lib\\site-packages\\pydantic\\main.py\u001b[0m in \u001b[0;36m__init__\u001b[1;34m(self, **data)\u001b[0m\n\u001b[0;32m    212\u001b[0m         \u001b[1;31m# `__tracebackhide__` tells pytest and some other tools to omit this function from tracebacks\u001b[0m\u001b[1;33m\u001b[0m\u001b[1;33m\u001b[0m\u001b[0m\n\u001b[0;32m    213\u001b[0m         \u001b[0m__tracebackhide__\u001b[0m \u001b[1;33m=\u001b[0m \u001b[1;32mTrue\u001b[0m\u001b[1;33m\u001b[0m\u001b[1;33m\u001b[0m\u001b[0m\n\u001b[1;32m--> 214\u001b[1;33m         \u001b[0mvalidated_self\u001b[0m \u001b[1;33m=\u001b[0m \u001b[0mself\u001b[0m\u001b[1;33m.\u001b[0m\u001b[0m__pydantic_validator__\u001b[0m\u001b[1;33m.\u001b[0m\u001b[0mvalidate_python\u001b[0m\u001b[1;33m(\u001b[0m\u001b[0mdata\u001b[0m\u001b[1;33m,\u001b[0m \u001b[0mself_instance\u001b[0m\u001b[1;33m=\u001b[0m\u001b[0mself\u001b[0m\u001b[1;33m)\u001b[0m\u001b[1;33m\u001b[0m\u001b[1;33m\u001b[0m\u001b[0m\n\u001b[0m\u001b[0;32m    215\u001b[0m         \u001b[1;32mif\u001b[0m \u001b[0mself\u001b[0m \u001b[1;32mis\u001b[0m \u001b[1;32mnot\u001b[0m \u001b[0mvalidated_self\u001b[0m\u001b[1;33m:\u001b[0m\u001b[1;33m\u001b[0m\u001b[1;33m\u001b[0m\u001b[0m\n\u001b[0;32m    216\u001b[0m             warnings.warn(\n",
      "\u001b[1;31mValidationError\u001b[0m: 2 validation errors for DocumentInDB\nowner_id\n  Input should be a valid string [type=string_type, input_value=UUID('8f16fc0c-e4d0-42ef-89a2-3aa787801f56'), input_type=UUID]\n    For further information visit https://errors.pydantic.dev/2.10/v/string_type\naccess_group_id\n  Input should be a valid string [type=string_type, input_value=UUID('8f088d88-fd3b-4c86-af38-2196b6cab3cc'), input_type=UUID]\n    For further information visit https://errors.pydantic.dev/2.10/v/string_type"
     ]
    }
   ],
   "source": [
    "doc_meta = await client.metarepo.get(\"8a95427a-18d7-4d50-8ec6-1b631ae70de6\")"
   ]
  },
  {
   "cell_type": "code",
   "execution_count": null,
   "id": "591bd0cf",
   "metadata": {},
   "outputs": [],
   "source": [
    "cfg = DataClientConfig(postgres = PostgresConfig(user = \"postgres\",\n",
    "                                                           password = \"postgres\",\n",
    "                                                           host = \"10.10.0.70\",\n",
    "                                                           port=5422), \n",
    "                                            minio = MinioConfig(endpoint=\"10.10.0.70:9008\",  bucket = \"documents\"))\n"
   ]
  }
 ],
 "metadata": {
  "kernelspec": {
   "display_name": "Python 3",
   "language": "python",
   "name": "python3"
  },
  "language_info": {
   "codemirror_mode": {
    "name": "ipython",
    "version": 3
   },
   "file_extension": ".py",
   "mimetype": "text/x-python",
   "name": "python",
   "nbconvert_exporter": "python",
   "pygments_lexer": "ipython3",
   "version": "3.10.1"
  }
 },
 "nbformat": 4,
 "nbformat_minor": 5
}
